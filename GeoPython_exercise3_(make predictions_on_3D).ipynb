{
 "cells": [
  {
   "cell_type": "markdown",
   "id": "056d7f5a",
   "metadata": {},
   "source": [
    "# GeoPython Week - exercise 3"
   ]
  },
  {
   "cell_type": "code",
   "execution_count": 1,
   "id": "d65d650e",
   "metadata": {},
   "outputs": [],
   "source": [
    "# Load necessary libraries\n",
    "import numpy as np\n",
    "import pandas as pd\n",
    "import matplotlib.pyplot as plt"
   ]
  },
  {
   "cell_type": "markdown",
   "id": "7e366089",
   "metadata": {},
   "source": [
    "### Read 3D data from csv"
   ]
  },
  {
   "cell_type": "code",
   "execution_count": 2,
   "id": "405033d6",
   "metadata": {},
   "outputs": [],
   "source": [
    "data=pd.read_csv('data/3D_area.csv')"
   ]
  },
  {
   "cell_type": "code",
   "execution_count": 3,
   "id": "a43c06c1",
   "metadata": {},
   "outputs": [],
   "source": [
    "# create Impedance column\n",
    "data['Imp']=data['Density']*data['P_wave']"
   ]
  },
  {
   "cell_type": "markdown",
   "id": "6b2b8f40",
   "metadata": {},
   "source": [
    "### Read prediction model from .pkl files"
   ]
  },
  {
   "cell_type": "code",
   "execution_count": 4,
   "id": "c7ad593c",
   "metadata": {},
   "outputs": [],
   "source": [
    "#data"
   ]
  },
  {
   "cell_type": "code",
   "execution_count": 5,
   "id": "0f385949",
   "metadata": {},
   "outputs": [],
   "source": [
    "import pickle\n",
    "address_models='mymodels4wells_for_2d_2/'\n",
    "#address_models='models/'\n",
    "\n",
    "log_reg = pickle.load(open(address_models+'log_reg_kfold.pkl', 'rb'))\n",
    "#mlpc = pickle.load(open(address_models+'mlpc_gs.pkl', 'rb'))\n",
    "\n",
    "\n",
    "# define what features are used in model\n",
    "features = ['Density', 'P_wave','Porosity','Imp' , 'V_clay'] #,'V_clay'\n"
   ]
  },
  {
   "cell_type": "code",
   "execution_count": 6,
   "id": "6a66424b",
   "metadata": {},
   "outputs": [],
   "source": [
    "#data[features]"
   ]
  },
  {
   "cell_type": "markdown",
   "id": "f6546080",
   "metadata": {},
   "source": [
    "### Make predictions on 3D data"
   ]
  },
  {
   "cell_type": "code",
   "execution_count": 7,
   "id": "c4160523",
   "metadata": {},
   "outputs": [],
   "source": [
    "data['Log_reg_pred']=log_reg.predict(data[features])\n",
    "#data['mlpc']=mlpc.predict(data[features])"
   ]
  },
  {
   "cell_type": "code",
   "execution_count": 4,
   "id": "2eeaf07b",
   "metadata": {},
   "outputs": [],
   "source": [
    "#data['Log_reg_pred'].value_counts()\n",
    "#data['mlpc)'].value_counts()"
   ]
  },
  {
   "cell_type": "markdown",
   "id": "341a1136",
   "metadata": {},
   "source": [
    "## Plot slice of 3D volume "
   ]
  },
  {
   "cell_type": "code",
   "execution_count": null,
   "id": "95f2611a",
   "metadata": {},
   "outputs": [],
   "source": [
    "# take slice of data around time= 152/2 (+-8)\n",
    "#slice_df=data[(data['Time']<(19+2)*4) & (data['Time']>(19-2)*4)].groupby(['Inline', 'Xline']).mean()\n",
    "slice_df=data[(data['Time']<(15+2)*4) & (data['Time']>(15-2)*4)].groupby(['Inline', 'Xline']).mean()"
   ]
  },
  {
   "cell_type": "code",
   "execution_count": null,
   "id": "f2372e46",
   "metadata": {},
   "outputs": [],
   "source": [
    "slice_df.reset_index(inplace=True)"
   ]
  },
  {
   "cell_type": "code",
   "execution_count": null,
   "id": "32673084",
   "metadata": {},
   "outputs": [],
   "source": [
    "# visualise only points where oil was detected\n",
    "data_plot=slice_df[slice_df['Log_reg_pred']>0][['Inline', 'Xline', 'Log_reg_pred']]\n",
    "#data_plot=slice_df[slice_df['mlpc']>0][['Inline', 'Xline', 'mlpc']]"
   ]
  },
  {
   "cell_type": "code",
   "execution_count": null,
   "id": "ef2db9a0",
   "metadata": {},
   "outputs": [],
   "source": [
    "plt.figure(figsize=(15,15))\n",
    "plt.plot(data_plot.Inline, data_plot.Xline, '.', markersize=0.5)\n",
    "plt.xlabel ('Inline', size=14)\n",
    "plt.ylabel('Xline', size=14)\n",
    "plt.title ('Log_regression', size=20)\n",
    "#plt.title ('Gausian Naive Bayes', size=20)"
   ]
  },
  {
   "cell_type": "code",
   "execution_count": null,
   "id": "fcc22f86",
   "metadata": {},
   "outputs": [],
   "source": []
  }
 ],
 "metadata": {
  "kernelspec": {
   "display_name": "Python 3",
   "language": "python",
   "name": "python3"
  },
  "language_info": {
   "codemirror_mode": {
    "name": "ipython",
    "version": 3
   },
   "file_extension": ".py",
   "mimetype": "text/x-python",
   "name": "python",
   "nbconvert_exporter": "python",
   "pygments_lexer": "ipython3",
   "version": "3.8.8"
  }
 },
 "nbformat": 4,
 "nbformat_minor": 5
}
